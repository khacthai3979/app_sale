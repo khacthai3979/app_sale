{
 "cells": [
  {
   "cell_type": "code",
   "execution_count": null,
   "metadata": {},
   "outputs": [],
   "source": [
    "from bs4 import BeautifulSoup\n",
    "import requests\n",
    "import re\n",
    "\n",
    "search_term = input(\"What GPU do you want to search for? \")\n",
    "\n",
    "url = f\"https://gearvn.com/collections/vga-card-man-hinh?dongvga={search_term}\"\n",
    "page = requests.get(url).text\n",
    "doc = BeautifulSoup(page, \"html.parser\")\n",
    "\n",
    "page_text = doc.find(class_=\"list-tool-pagination-text\").strong\n",
    "pages = int(str(page_text).split(\"/\")[-2].split(\">\")[-1][:-1])\n",
    "\n",
    "items_found = {}\n",
    "\n",
    "for page in range(1, pages + 1):\n",
    "\turl = f\"https://www.newegg.ca/p/pl?d={search_term}&N=4131&page={page}\"\n",
    "\tpage = requests.get(url).text\n",
    "\tdoc = BeautifulSoup(page, \"html.parser\")\n",
    "\n",
    "\tdiv = doc.find(class_=\"item-cells-wrap border-cells items-grid-view four-cells expulsion-one-cell\")\n",
    "\titems = div.find_all(text=re.compile(search_term))\n",
    "\n",
    "\tfor item in items:\n",
    "\t\tparent = item.parent\n",
    "\t\tif parent.name != \"a\":\n",
    "\t\t\tcontinue\n",
    "\n",
    "\t\tlink = parent['href']\n",
    "\t\tnext_parent = item.find_parent(class_=\"item-container\")\n",
    "\t\ttry:\n",
    "\t\t\tprice = next_parent.find(class_=\"price-current\").find(\"strong\").string\n",
    "\t\t\titems_found[item] = {\"price\": int(price.replace(\",\", \"\")), \"link\": link}\n",
    "\t\texcept:\n",
    "\t\t\tpass\n",
    "\n",
    "sorted_items = sorted(items_found.items(), key=lambda x: x[1]['price'])\n",
    "\n",
    "for item in sorted_items:\n",
    "\tprint(item[0])\n",
    "\tprint(f\"${item[1]['price']}\")\n",
    "\tprint(item[1]['link'])\n",
    "\tprint(\"-------------------------------\")\n"
   ]
  },
  {
   "cell_type": "code",
   "execution_count": 1,
   "metadata": {},
   "outputs": [],
   "source": [
    "import requests\n",
    "from bs4 import BeautifulSoup\n",
    "\n",
    "# URL của trang chứa các GPU\n",
    "url = 'https://gearvn.com/collections/vga-card-man-hinh?dongvga=rtx4060'\n",
    "\n",
    "# Gửi yêu cầu GET để lấy nội dung của trang\n",
    "response = requests.get(url)\n",
    "\n",
    "# Kiểm tra xem yêu cầu có thành công không\n",
    "if response.status_code == 200:\n",
    "    soup = BeautifulSoup(response.text, 'html.parser')\n",
    "\n",
    "    # Tìm tất cả các thẻ chứa thông tin về GPU\n",
    "    products = soup.find_all('div', class_='product-card')\n",
    "\n",
    "    # Duyệt qua từng sản phẩm và lấy thông tin\n",
    "    for product in products:\n",
    "        # Lấy tên GPU\n",
    "        name = product.find('h3', class_='product-name').text.strip()\n",
    "\n",
    "        # Lấy giá của GPU\n",
    "        price = product.find('span', class_='price').text.strip()\n",
    "\n",
    "        # In ra thông tin\n",
    "        print(f'GPU: {name} - Giá: {price}')\n",
    "else:\n",
    "    print(f\"Không thể truy cập trang web. Mã lỗi: {response.status_code}\")\n"
   ]
  },
  {
   "cell_type": "code",
   "execution_count": null,
   "metadata": {},
   "outputs": [],
   "source": []
  }
 ],
 "metadata": {
  "kernelspec": {
   "display_name": "Python 3",
   "language": "python",
   "name": "python3"
  },
  "language_info": {
   "codemirror_mode": {
    "name": "ipython",
    "version": 3
   },
   "file_extension": ".py",
   "mimetype": "text/x-python",
   "name": "python",
   "nbconvert_exporter": "python",
   "pygments_lexer": "ipython3",
   "version": "3.12.3"
  }
 },
 "nbformat": 4,
 "nbformat_minor": 2
}
